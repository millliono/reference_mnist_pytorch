{
 "cells": [
  {
   "cell_type": "code",
   "execution_count": 1,
   "metadata": {},
   "outputs": [
    {
     "name": "stderr",
     "output_type": "stream",
     "text": [
      "/home/millliono/miniconda3/envs/dev/lib/python3.10/site-packages/tqdm/auto.py:22: TqdmWarning: IProgress not found. Please update jupyter and ipywidgets. See https://ipywidgets.readthedocs.io/en/stable/user_install.html\n",
      "  from .autonotebook import tqdm as notebook_tqdm\n"
     ]
    }
   ],
   "source": [
    "import torch\n",
    "from torchvision import datasets        \n",
    "import torchvision.transforms as transforms"
   ]
  },
  {
   "cell_type": "code",
   "execution_count": 2,
   "metadata": {},
   "outputs": [
    {
     "name": "stdout",
     "output_type": "stream",
     "text": [
      "Downloading http://yann.lecun.com/exdb/mnist/train-images-idx3-ubyte.gz\n",
      "Downloading http://yann.lecun.com/exdb/mnist/train-images-idx3-ubyte.gz to ./data/MNIST/raw/train-images-idx3-ubyte.gz\n"
     ]
    },
    {
     "name": "stderr",
     "output_type": "stream",
     "text": [
      "100%|██████████| 9912422/9912422 [00:09<00:00, 1068281.57it/s]\n"
     ]
    },
    {
     "name": "stdout",
     "output_type": "stream",
     "text": [
      "Extracting ./data/MNIST/raw/train-images-idx3-ubyte.gz to ./data/MNIST/raw\n",
      "\n",
      "Downloading http://yann.lecun.com/exdb/mnist/train-labels-idx1-ubyte.gz\n",
      "Downloading http://yann.lecun.com/exdb/mnist/train-labels-idx1-ubyte.gz to ./data/MNIST/raw/train-labels-idx1-ubyte.gz\n"
     ]
    },
    {
     "name": "stderr",
     "output_type": "stream",
     "text": [
      "100%|██████████| 28881/28881 [00:00<00:00, 675889.91it/s]\n"
     ]
    },
    {
     "name": "stdout",
     "output_type": "stream",
     "text": [
      "Extracting ./data/MNIST/raw/train-labels-idx1-ubyte.gz to ./data/MNIST/raw\n",
      "\n",
      "Downloading http://yann.lecun.com/exdb/mnist/t10k-images-idx3-ubyte.gz\n",
      "Downloading http://yann.lecun.com/exdb/mnist/t10k-images-idx3-ubyte.gz to ./data/MNIST/raw/t10k-images-idx3-ubyte.gz\n"
     ]
    },
    {
     "name": "stderr",
     "output_type": "stream",
     "text": [
      "100%|██████████| 1648877/1648877 [00:01<00:00, 1039402.54it/s]\n"
     ]
    },
    {
     "name": "stdout",
     "output_type": "stream",
     "text": [
      "Extracting ./data/MNIST/raw/t10k-images-idx3-ubyte.gz to ./data/MNIST/raw\n",
      "\n",
      "Downloading http://yann.lecun.com/exdb/mnist/t10k-labels-idx1-ubyte.gz\n",
      "Downloading http://yann.lecun.com/exdb/mnist/t10k-labels-idx1-ubyte.gz to ./data/MNIST/raw/t10k-labels-idx1-ubyte.gz\n"
     ]
    },
    {
     "name": "stderr",
     "output_type": "stream",
     "text": [
      "100%|██████████| 4542/4542 [00:00<00:00, 2747804.52it/s]"
     ]
    },
    {
     "name": "stdout",
     "output_type": "stream",
     "text": [
      "Extracting ./data/MNIST/raw/t10k-labels-idx1-ubyte.gz to ./data/MNIST/raw\n",
      "\n",
      "trainset:  60000\n",
      "testset:  10000\n"
     ]
    },
    {
     "name": "stderr",
     "output_type": "stream",
     "text": [
      "\n"
     ]
    },
    {
     "name": "stdout",
     "output_type": "stream",
     "text": [
      "Shape of X [N, C, H, W]: torch.Size([32, 1, 28, 28])\n",
      "Shape of y: torch.Size([32]) torch.int64\n"
     ]
    }
   ],
   "source": [
    "# transform = transforms.Compose([transforms.ToTensor(),\n",
    "#                                 transforms.Normalize((0.5,), (0.5, ))])\n",
    "transform = transforms.Compose([transforms.ToTensor()])\n",
    "\n",
    "trainset = datasets.MNIST(root='./data', train=True,\n",
    "                          transform=transform, download=True)\n",
    "testset = datasets.MNIST(root='./data', train=False,\n",
    "                         transform=transform, download=True)\n",
    "\n",
    "print(\"trainset: \", len(trainset))\n",
    "print(\"testset: \", len(testset))\n",
    "# print(trainset[123])\n",
    "\n",
    "batch_size = 32\n",
    "trainloader = torch.utils.data.DataLoader(\n",
    "    trainset, batch_size=batch_size, shuffle=True, num_workers=6)\n",
    "testloader = torch.utils.data.DataLoader(\n",
    "    testset, batch_size=batch_size, shuffle=True, num_workers=6)\n",
    "\n",
    "for X, y in testloader:\n",
    "    print(f\"Shape of X [N, C, H, W]: {X.shape}\")\n",
    "    print(f\"Shape of y: {y.shape} {y.dtype}\")\n",
    "    break"
   ]
  },
  {
   "cell_type": "code",
   "execution_count": 3,
   "metadata": {},
   "outputs": [],
   "source": [
    "from torch import nn\n",
    "from torch import optim\n",
    "import torch.nn.functional as F"
   ]
  },
  {
   "cell_type": "code",
   "execution_count": 4,
   "metadata": {},
   "outputs": [
    {
     "name": "stdout",
     "output_type": "stream",
     "text": [
      "Using cpu device\n",
      "NeuralNetwork(\n",
      "  (flatten): Flatten(start_dim=1, end_dim=-1)\n",
      "  (layer1): Linear(in_features=784, out_features=64, bias=True)\n",
      "  (layer2): Linear(in_features=64, out_features=32, bias=True)\n",
      "  (layer3): Linear(in_features=32, out_features=10, bias=True)\n",
      ")\n"
     ]
    }
   ],
   "source": [
    "# Get cpu or gpu device for training.\n",
    "device = \"cuda\" if torch.cuda.is_available() else \"cpu\"\n",
    "print(f\"Using {device} device\")\n",
    "\n",
    "class NeuralNetwork(nn.Module):\n",
    "    def __init__(self):\n",
    "        super().__init__()\n",
    "        self.flatten = nn.Flatten()\n",
    "        self.layer1 = nn.Linear(784, 64)\n",
    "        self.layer2 = nn.Linear(64, 32)\n",
    "        self.layer3 = nn.Linear(32, 10)\n",
    "\n",
    "    def forward(self, x):\n",
    "        x = self.flatten(x)\n",
    "        x = self.layer1(x)\n",
    "        x = F.relu(x)\n",
    "        x = self.layer2(x)\n",
    "        x = F.relu(x)\n",
    "        x = self.layer3(x)\n",
    "        x = F.softmax(x, dim=1)\n",
    "        return x\n",
    "\n",
    "model = NeuralNetwork().to(device)\n",
    "print(model)"
   ]
  },
  {
   "cell_type": "code",
   "execution_count": 5,
   "metadata": {},
   "outputs": [],
   "source": [
    "lr = 1e-3\n",
    "optimizer = optim.Adam(model.parameters(), lr=lr)\n",
    "loss_fn = nn.CrossEntropyLoss()"
   ]
  },
  {
   "cell_type": "code",
   "execution_count": 6,
   "metadata": {},
   "outputs": [],
   "source": [
    "def train(dataloader, model, loss_fn, optimizer):\n",
    "    size = len(dataloader.dataset)\n",
    "    model.train()\n",
    "    for batch, (X, y) in enumerate(dataloader):\n",
    "        X, y = X.to(device), y.to(device)\n",
    "\n",
    "        # Compute prediction error\n",
    "        pred = model(X)\n",
    "        loss = loss_fn(pred, y)\n",
    "\n",
    "        # Backpropagation\n",
    "        optimizer.zero_grad()\n",
    "        loss.backward()\n",
    "        optimizer.step()\n",
    "\n",
    "        if batch % 100 == 0:\n",
    "            loss = loss.item()\n",
    "            current = batch * len(X)\n",
    "            print(f\"loss(batch): {loss:>7f}  [{current:>5d}/{size:>5d}]\")"
   ]
  },
  {
   "cell_type": "code",
   "execution_count": 7,
   "metadata": {},
   "outputs": [],
   "source": [
    "def test(dataloader, model, loss_fn):\n",
    "    size = len(dataloader.dataset)\n",
    "    num_batches = len(dataloader)\n",
    "    model.eval()\n",
    "\n",
    "    test_loss, correct = 0, 0\n",
    "    with torch.no_grad():\n",
    "        for X, y in dataloader:\n",
    "            X, y = X.to(device), y.to(device)\n",
    "            pred = model(X)\n",
    "            test_loss += loss_fn(pred, y).item()\n",
    "            correct += (pred.argmax(1) == y).type(torch.float).sum().item()\n",
    "\n",
    "    print(f\"Test Error: \\nAccuracy: {(100*correct/size):>0.1f}%, Avg loss(batch): {test_loss/num_batches:>8f} \\n\")"
   ]
  },
  {
   "cell_type": "code",
   "execution_count": 8,
   "metadata": {},
   "outputs": [
    {
     "name": "stdout",
     "output_type": "stream",
     "text": [
      "Epoch 1  (batch_size=32, lr=0.001)\n",
      "-------------------------------\n",
      "loss(batch): 2.301195  [    0/60000]\n",
      "loss(batch): 1.665045  [ 3200/60000]\n",
      "loss(batch): 1.777200  [ 6400/60000]\n",
      "loss(batch): 1.646663  [ 9600/60000]\n",
      "loss(batch): 1.626758  [12800/60000]\n",
      "loss(batch): 1.618425  [16000/60000]\n",
      "loss(batch): 1.578489  [19200/60000]\n",
      "loss(batch): 1.710248  [22400/60000]\n",
      "loss(batch): 1.605496  [25600/60000]\n",
      "loss(batch): 1.485946  [28800/60000]\n",
      "loss(batch): 1.573221  [32000/60000]\n",
      "loss(batch): 1.558533  [35200/60000]\n",
      "loss(batch): 1.545492  [38400/60000]\n",
      "loss(batch): 1.537621  [41600/60000]\n",
      "loss(batch): 1.553604  [44800/60000]\n",
      "loss(batch): 1.526326  [48000/60000]\n",
      "loss(batch): 1.562599  [51200/60000]\n",
      "loss(batch): 1.523965  [54400/60000]\n",
      "loss(batch): 1.654455  [57600/60000]\n",
      "Test Error: \n",
      "Accuracy: 92.3%, Avg loss(batch): 1.542558 \n",
      "\n",
      "Epoch 2  (batch_size=32, lr=0.001)\n",
      "-------------------------------\n",
      "loss(batch): 1.538586  [    0/60000]\n",
      "loss(batch): 1.553196  [ 3200/60000]\n",
      "loss(batch): 1.558136  [ 6400/60000]\n",
      "loss(batch): 1.510896  [ 9600/60000]\n",
      "loss(batch): 1.602984  [12800/60000]\n",
      "loss(batch): 1.584349  [16000/60000]\n",
      "loss(batch): 1.534378  [19200/60000]\n",
      "loss(batch): 1.517572  [22400/60000]\n",
      "loss(batch): 1.483968  [25600/60000]\n",
      "loss(batch): 1.584910  [28800/60000]\n",
      "loss(batch): 1.575838  [32000/60000]\n",
      "loss(batch): 1.585626  [35200/60000]\n",
      "loss(batch): 1.558160  [38400/60000]\n",
      "loss(batch): 1.551253  [41600/60000]\n",
      "loss(batch): 1.539932  [44800/60000]\n",
      "loss(batch): 1.537976  [48000/60000]\n",
      "loss(batch): 1.492047  [51200/60000]\n",
      "loss(batch): 1.522099  [54400/60000]\n",
      "loss(batch): 1.468365  [57600/60000]\n",
      "Test Error: \n",
      "Accuracy: 94.2%, Avg loss(batch): 1.522755 \n",
      "\n",
      "Epoch 3  (batch_size=32, lr=0.001)\n",
      "-------------------------------\n",
      "loss(batch): 1.591728  [    0/60000]\n",
      "loss(batch): 1.528612  [ 3200/60000]\n",
      "loss(batch): 1.603068  [ 6400/60000]\n",
      "loss(batch): 1.530027  [ 9600/60000]\n",
      "loss(batch): 1.479439  [12800/60000]\n",
      "loss(batch): 1.502907  [16000/60000]\n",
      "loss(batch): 1.479633  [19200/60000]\n",
      "loss(batch): 1.508467  [22400/60000]\n",
      "loss(batch): 1.606491  [25600/60000]\n",
      "loss(batch): 1.464068  [28800/60000]\n",
      "loss(batch): 1.518770  [32000/60000]\n",
      "loss(batch): 1.556417  [35200/60000]\n",
      "loss(batch): 1.466561  [38400/60000]\n",
      "loss(batch): 1.529070  [41600/60000]\n",
      "loss(batch): 1.519119  [44800/60000]\n",
      "loss(batch): 1.461752  [48000/60000]\n",
      "loss(batch): 1.525277  [51200/60000]\n",
      "loss(batch): 1.521146  [54400/60000]\n",
      "loss(batch): 1.520251  [57600/60000]\n",
      "Test Error: \n",
      "Accuracy: 94.6%, Avg loss(batch): 1.517474 \n",
      "\n"
     ]
    }
   ],
   "source": [
    "epochs = 3\n",
    "for t in range(epochs):\n",
    "    print(f\"Epoch {t+1}  (batch_size={batch_size}, lr={lr})\\n-------------------------------\")\n",
    "    train(trainloader, model, loss_fn, optimizer)\n",
    "    test(testloader, model, loss_fn)"
   ]
  },
  {
   "cell_type": "code",
   "execution_count": 9,
   "metadata": {},
   "outputs": [
    {
     "data": {
      "image/png": "[encoded data removed]",
      "text/plain": [
       "<Figure size 640x480 with 8 Axes>"
      ]
     },
     "metadata": {},
     "output_type": "display_data"
    }
   ],
   "source": [
    "# visualization\n",
    "import matplotlib.pyplot as plt\n",
    "\n",
    "for i in range(8):\n",
    "  plt.subplot(181 + i)\n",
    "  plt.imshow(trainset[i][0].reshape(28,28))\n",
    "  plt.xticks([])\n",
    "  plt.yticks([])\n",
    "  plt.title(model(trainset[i][0].to(device)).argmax(dim=1).item())"
   ]
  }
 ],
 "metadata": {
  "kernelspec": {
   "display_name": "dev",
   "language": "python",
   "name": "python3"
  },
  "language_info": {
   "codemirror_mode": {
    "name": "ipython",
    "version": 3
   },
   "file_extension": ".py",
   "mimetype": "text/x-python",
   "name": "python",
   "nbconvert_exporter": "python",
   "pygments_lexer": "ipython3",
   "version": "3.10.8"
  },
  "orig_nbformat": 4,
  "vscode": {
   "interpreter": {
    "hash": "dfef46f5ed80c7444844e4919d176a74ff7881e4ef4991be36cdf9c9f851d4ab"
   }
  }
 },
 "nbformat": 4,
 "nbformat_minor": 2
}
